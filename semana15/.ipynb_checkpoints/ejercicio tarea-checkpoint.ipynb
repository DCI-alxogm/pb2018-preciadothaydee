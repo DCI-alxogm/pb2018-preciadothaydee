{
 "cells": [
  {
   "cell_type": "code",
   "execution_count": 32,
   "metadata": {},
   "outputs": [],
   "source": [
    "import numpy as np\n",
    "import matplotlib.pyplot as plt\n",
    "import scipy.constants as cte\n",
    "%matplotlib inline"
   ]
  },
  {
   "cell_type": "code",
   "execution_count": 33,
   "metadata": {},
   "outputs": [],
   "source": [
    "c=cte.c\n",
    "h=cte.Planck\n",
    "k=cte.Boltzmann\n",
    "v=5\n",
    "T=1"
   ]
  },
  {
   "cell_type": "code",
   "execution_count": 34,
   "metadata": {},
   "outputs": [
    {
     "name": "stdout",
     "output_type": "stream",
     "text": [
      "299792458.0 6.62607004e-34 1.38064852e-23\n"
     ]
    }
   ],
   "source": [
    "print (c,h,k)"
   ]
  },
  {
   "cell_type": "code",
   "execution_count": 35,
   "metadata": {},
   "outputs": [],
   "source": [
    "data=np.loadtxt('IRCF.txt')"
   ]
  },
  {
   "cell_type": "code",
   "execution_count": 36,
   "metadata": {},
   "outputs": [],
   "source": [
    "c1=data[:,0]\n",
    "c2=data[:,1]\n",
    "c3=data[:,3]"
   ]
  },
  {
   "cell_type": "code",
   "execution_count": 37,
   "metadata": {},
   "outputs": [
    {
     "name": "stdout",
     "output_type": "stream",
     "text": [
      "[ 2.27  2.72  3.18  3.63  4.08  4.54  4.99  5.45  5.9   6.35  6.81  7.26\n",
      "  7.71  8.17  8.62  9.08  9.53  9.98 10.44 10.89 11.34 11.8  12.25 12.71\n",
      " 13.16 13.61 14.07 14.52 14.97 15.43 15.88 16.34 16.79 17.24 17.7  18.15\n",
      " 18.61 19.06 19.51 19.97 20.42 20.87 21.33] [200.723 249.508 293.024 327.77  354.081 372.079 381.493 383.478 378.901\n",
      " 368.833 354.063 336.278 316.076 293.924 271.432 248.239 225.94  204.327\n",
      " 183.262 163.83  145.75  128.835 113.568  99.451  87.036  75.876  65.766\n",
      "  57.008  49.223  42.267  36.352  31.062  26.58   22.644  19.255  16.391\n",
      "  13.811  11.716   9.921   8.364   7.087   5.801   4.523] [ 14.  19.  25.  23.  22.  21.  18.  18.  16.  14.  13.  12.  11.  10.\n",
      "  11.  12.  14.  16.  18.  22.  22.  23.  23.  23.  22.  21.  20.  19.\n",
      "  19.  19.  21.  23.  26.  28.  30.  32.  33.  35.  41.  55.  88. 155.\n",
      " 282.]\n"
     ]
    }
   ],
   "source": [
    "print (c1,c2,c3)"
   ]
  },
  {
   "cell_type": "code",
   "execution_count": 38,
   "metadata": {
    "scrolled": true
   },
   "outputs": [],
   "source": [
    "c2=c2*1e3\n",
    "c1=c1*(1e-3)*(3e8)"
   ]
  },
  {
   "cell_type": "code",
   "execution_count": 44,
   "metadata": {},
   "outputs": [
    {
     "data": {
      "text/plain": [
       "Text(0.5,1,'grafica 1')"
      ]
     },
     "execution_count": 44,
     "metadata": {},
     "output_type": "execute_result"
    },
    {
     "data": {
      "image/png": "[encoded data removed]",
      "text/plain": [
       "<Figure size 432x288 with 1 Axes>"
      ]
     },
     "metadata": {},
     "output_type": "display_data"
    }
   ],
   "source": [
    "plt.errorbar(c1,c2,c3)\n",
    "plt.title ('grafica 1')"
   ]
  },
  {
   "cell_type": "code",
   "execution_count": 45,
   "metadata": {},
   "outputs": [],
   "source": [
    "I=((h*(pow(v,3)))/(pow(c,2)))*(1/((np.exp((h*v)/(k*T)))-1))"
   ]
  },
  {
   "cell_type": "code",
   "execution_count": 47,
   "metadata": {},
   "outputs": [
    {
     "ename": "TypeError",
     "evalue": "'numpy.float64' object is not callable",
     "output_type": "error",
     "traceback": [
      "\u001b[0;31m---------------------------------------------------------------------------\u001b[0m",
      "\u001b[0;31mTypeError\u001b[0m                                 Traceback (most recent call last)",
      "\u001b[0;32m<ipython-input-47-f1407083cb9e>\u001b[0m in \u001b[0;36m<module>\u001b[0;34m()\u001b[0m\n\u001b[0;32m----> 1\u001b[0;31m \u001b[0mz\u001b[0m\u001b[0;34m=\u001b[0m\u001b[0mI\u001b[0m\u001b[0;34m(\u001b[0m\u001b[0mc1\u001b[0m\u001b[0;34m,\u001b[0m\u001b[0;36m270\u001b[0m\u001b[0;34m)\u001b[0m\u001b[0;34m\u001b[0m\u001b[0m\n\u001b[0m",
      "\u001b[0;31mTypeError\u001b[0m: 'numpy.float64' object is not callable"
     ]
    }
   ],
   "source": [
    "z=I(c1,270)"
   ]
  },
  {
   "cell_type": "code",
   "execution_count": null,
   "metadata": {},
   "outputs": [],
   "source": []
  }
 ],
 "metadata": {
  "kernelspec": {
   "display_name": "Python 2",
   "language": "python",
   "name": "python2"
  },
  "language_info": {
   "codemirror_mode": {
    "name": "ipython",
    "version": 3
   },
   "file_extension": ".py",
   "mimetype": "text/x-python",
   "name": "python",
   "nbconvert_exporter": "python",
   "pygments_lexer": "ipython3",
   "version": "3.6.6"
  }
 },
 "nbformat": 4,
 "nbformat_minor": 2
}
